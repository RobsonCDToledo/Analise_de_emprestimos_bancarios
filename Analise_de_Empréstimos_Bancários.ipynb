{
  "nbformat": 4,
  "nbformat_minor": 0,
  "metadata": {
    "colab": {
      "private_outputs": true,
      "provenance": [],
      "collapsed_sections": [
        "xiH38rIWb-1O",
        "DdOJqPaWfa7X",
        "4FjQCcmsfgPH",
        "suSw2mO9foaP",
        "Z7lsGcYbbyqR"
      ],
      "mount_file_id": "1Y7ncfImbYft4AjjjFIPtiChX76p4RNVY",
      "authorship_tag": "ABX9TyPZ9LKZe/IFejKl7OAYTuGb",
      "include_colab_link": true
    },
    "kernelspec": {
      "name": "python3",
      "display_name": "Python 3"
    },
    "language_info": {
      "name": "python"
    }
  },
  "cells": [
    {
      "cell_type": "markdown",
      "metadata": {
        "id": "view-in-github",
        "colab_type": "text"
      },
      "source": [
        "<a href=\"https://colab.research.google.com/github/RobsonCDToledo/Analise_de_emprestimos_bancarios/blob/main/Analise_de_Empr%C3%A9stimos_Banc%C3%A1rios.ipynb\" target=\"_parent\"><img src=\"https://colab.research.google.com/assets/colab-badge.svg\" alt=\"Open In Colab\"/></a>"
      ]
    },
    {
      "cell_type": "markdown",
      "source": [
        "## **Estrutura do Notebook:**\n"
      ],
      "metadata": {
        "id": "UeoOBeCjgKae"
      }
    },
    {
      "cell_type": "markdown",
      "source": [
        "1. **Introdução e Objetivos**: Descrição do projeto e dos objetivos da análise.\n",
        "2. **Preparação do Ambiente**: Configuração do ambiente de notebook Google Colab e conexão com o banco de dados / arquivo.\n",
        "3. **Consulta e Análise dos Dados**: Execução dos códigos python e análise dos resultados.\n",
        "4. **Visualização dos Resultados**: Utilização de gráficos e visualizações para apresentar os insights obtidos.\n",
        "5. **Conclusão**: Resumo das descobertas e próximos passos."
      ],
      "metadata": {
        "id": "_KbuhAa-gM8W"
      }
    },
    {
      "cell_type": "markdown",
      "source": [
        "# **1. Introdução e Objetivos**"
      ],
      "metadata": {
        "id": "drr9iFQ4gmEP"
      }
    },
    {
      "cell_type": "markdown",
      "source": [
        "## Análise de Dados de Empréstimos Bancários\n"
      ],
      "metadata": {
        "id": "xiH38rIWb-1O"
      }
    },
    {
      "cell_type": "markdown",
      "source": [
        "Neste projeto, iremos realizar uma análise abrangente dos dados de empréstimos bancários usando Python. As consultas serão executadas em arquivo de extensão .xlsx que você pode localizar mais abaixo,os resultados serão analisados para fornecer insights sobre o desempenho das operações de empréstimos do banco em várias métricas-chave.\n"
      ],
      "metadata": {
        "id": "0Pfx9ERecGfG"
      }
    },
    {
      "cell_type": "markdown",
      "source": [
        "### Arquivos utilizados."
      ],
      "metadata": {
        "id": "DdOJqPaWfa7X"
      }
    },
    {
      "cell_type": "markdown",
      "source": [
        "Emprestimos.xlsx\n"
      ],
      "metadata": {
        "id": "8cQiUpv3fe8n"
      }
    },
    {
      "cell_type": "markdown",
      "source": [
        "## Objetivos:"
      ],
      "metadata": {
        "id": "4FjQCcmsfgPH"
      }
    },
    {
      "cell_type": "markdown",
      "source": [
        "- Analisar o número total de aplicações de empréstimos.\n",
        "- Avaliar o valor total financiado e o valor total recebido.\n",
        "- Calcular a média da taxa de juros e da razão dívida/receita (DTI).\n",
        "- Determinar a porcentagem de empréstimos bons e ruins.\n",
        "- Investigar a distribuição dos empréstimos por mês, estado, prazo do empréstimo, tempo de emprego, propósito e tipo de propriedade residencial.\n"
      ],
      "metadata": {
        "id": "OwqZoATEht1P"
      }
    },
    {
      "cell_type": "markdown",
      "source": [
        "## **Métodos:**"
      ],
      "metadata": {
        "id": "suSw2mO9foaP"
      }
    },
    {
      "cell_type": "markdown",
      "source": [
        "Utilizaremos algumas bibliotecas Python para extrair e resumir os dados de empréstimos do banco, permitindo uma análise interativa e visual dos resultados.\n"
      ],
      "metadata": {
        "id": "mZun7cx-frRP"
      }
    },
    {
      "cell_type": "markdown",
      "source": [
        "## Bibliotecas utilizadas:\n",
        "\n"
      ],
      "metadata": {
        "id": "Z7lsGcYbbyqR"
      }
    },
    {
      "cell_type": "markdown",
      "source": [
        "- Google Colab: Ambiente de notebook colaborativo baseado em nuvem.\n",
        "  \n",
        "- Pandas: Biblioteca Python para análise e manipulação de dados.\n",
        "\n",
        "  Versão do Pandas 1.5.3\n",
        "- Matplotlib e Seaborn: Bibliotecas Python para visualização de dados.\n",
        "\n",
        "  Versão do matplotlib 3.7.1\n",
        "\n",
        "  Versão do seaborn 1.5.3"
      ],
      "metadata": {
        "id": "ig4CuecahwsH"
      }
    },
    {
      "cell_type": "markdown",
      "source": [
        "# **2. Preparação do Ambiente**"
      ],
      "metadata": {
        "id": "zYnGRVSXiQ33"
      }
    },
    {
      "cell_type": "markdown",
      "source": [
        "## **.** *Onde baixar a base de dados*"
      ],
      "metadata": {
        "id": "BBh0SvkamDjv"
      }
    },
    {
      "cell_type": "markdown",
      "source": [
        "- **OBS**: *Estaremos trabalhando com o arquivo dentro de uma pasta do Google Drive, para se conectar ao arquivo basta efetuar o download do arquivo emprestimos.xlsx*\n",
        "\n",
        "- Google Drive:\n",
        "\n",
        "  https://docs.google.com/spreadsheets/d/1-0AosXd5smUTVmilQk4t-fhPf6NlMzlE/edit?usp=drive_link&ouid=102389987557857669192&rtpof=true&sd=true\n",
        "\n",
        "- GitHub:\n",
        "\n",
        "  https://github.com/RobsonCDToledo/Analise_de_emprestimos_bancarios/blob/main/emprestimos.xlsx\n",
        "\n"
      ],
      "metadata": {
        "id": "eNv0LPo7kO9v"
      }
    },
    {
      "cell_type": "markdown",
      "source": [
        "## **.** Importando *bibliotecas*"
      ],
      "metadata": {
        "id": "Nb2K6wG0kKZ4"
      }
    },
    {
      "cell_type": "code",
      "source": [
        "import pandas as pd\n",
        "import matplotlib.pyplot as plt\n",
        "import seaborn as sns\n",
        "import geopandas as gpd\n"
      ],
      "metadata": {
        "id": "m8ShJyF3ilNg"
      },
      "execution_count": null,
      "outputs": []
    },
    {
      "cell_type": "markdown",
      "source": [
        "## **.** *Trazendo arquivo para o notebook*"
      ],
      "metadata": {
        "id": "fQi0bJx4l_hQ"
      }
    },
    {
      "cell_type": "code",
      "source": [
        "arquivo = (\"/content/drive/MyDrive/Analise_de_Emprestimos_Bancários/emprestimos.xlsx\")\n",
        "dataset = pd.read_excel(arquivo)"
      ],
      "metadata": {
        "id": "_GNI0zQYlxWB"
      },
      "execution_count": null,
      "outputs": []
    },
    {
      "cell_type": "markdown",
      "source": [
        "## **.** *Visualizando as primeiras linhas do arquivo*"
      ],
      "metadata": {
        "id": "ebaQIOiwmn-X"
      }
    },
    {
      "cell_type": "code",
      "source": [
        "dataset.head(2)"
      ],
      "metadata": {
        "id": "jjWsodRUnhiP"
      },
      "execution_count": null,
      "outputs": []
    },
    {
      "cell_type": "markdown",
      "source": [
        "## **.** *Breve descrição do arquivo*"
      ],
      "metadata": {
        "id": "qHyzHp2Onsh3"
      }
    },
    {
      "cell_type": "markdown",
      "source": [
        "- Vamos agrupar apenas as colunas de valores:  \n",
        "  (renda_anual,\n",
        "\n",
        "   DTI_(relação_dívida/renda),\n",
        "\n",
        "   parcela,\n",
        "\n",
        "   taxa_juros,\n",
        "\n",
        "   valor_empréstimo,\n",
        "\n",
        "   total_contas,\n",
        "\n",
        "   pagamento_total)\n",
        "\n",
        "- Fazer uma descrição destas colunas para entender o volume dos dados utilizando a função **Describe()**"
      ],
      "metadata": {
        "id": "fwohvBNYoCZX"
      }
    },
    {
      "cell_type": "code",
      "source": [
        "sub_set = dataset[['renda_anual', 'DTI_(relação_dívida/renda)', 'parcela', 'taxa_juros', 'valor_empréstimo', 'total_contas', 'pagamento_total']]\n",
        "sub_set.describe()"
      ],
      "metadata": {
        "id": "qIWewVjlnfph"
      },
      "execution_count": null,
      "outputs": []
    },
    {
      "cell_type": "markdown",
      "source": [
        "# **3. Consultas e Análises de Dados**"
      ],
      "metadata": {
        "id": "O4MqSRtzqCmP"
      }
    },
    {
      "cell_type": "markdown",
      "source": [
        "**.** *Principais indicadores que vamos analisar*"
      ],
      "metadata": {
        "id": "OpT08SvBqU7f"
      }
    },
    {
      "cell_type": "markdown",
      "source": [
        "\n",
        "Resumo das informações que vamos levantar:\n",
        "\n",
        "\n",
        "- Total de Aplicações de Empréstimos\n",
        "- Aplicações de Empréstimos do MTD (Mês Atual)\n",
        "- Aplicações de Empréstimos do PMTD (Mês Anterior)\n",
        "- Valor Total Financiado\n",
        "- Valor Total Financiado do MTD\n",
        "- Valor Total Financiado do PMTD\n",
        "- Valor Total Recebido\n",
        "- Valor Total Recebido do MTD\n",
        "- Valor Total Recebido do PMTD\n",
        "- Taxa de Juros Média\n",
        "- Taxa de Juros Média do MTD\n",
        "- Taxa de Juros Média do PMTD\n",
        "- Média de DTI (Razão Dívida/Receita)\n",
        "- Média de DTI do MTD\n",
        "- Média de DTI do PMTD\n",
        "- Porcentagem de Empréstimos Bons\n",
        "- Aplicações de Empréstimos Bons\n",
        "- Valor Financiado de Empréstimos Bons\n",
        "- Valor Recebido de Empréstimos Bons\n",
        "- Porcentagem de Empréstimos Ruins\n",
        "- Aplicações de Empréstimos Ruins\n",
        "- Valor Financiado de Empréstimos Ruins\n",
        "- Valor Recebido de Empréstimos Ruins\n",
        "\n",
        "\n",
        "Visão Geral:\n",
        "\n",
        "- Status de Empréstimo\n",
        "- Por Mês\n",
        "- Por Estado\n",
        "- Por Prazo\n",
        "- Por Tempo de Emprego\n",
        "- Por Propósito\n",
        "- Por Propriedade Residencial"
      ],
      "metadata": {
        "id": "PSgp4fcOqlnn"
      }
    },
    {
      "cell_type": "markdown",
      "source": [
        "## *Gerando os big numbers*"
      ],
      "metadata": {
        "id": "n7pcJL-HEJzO"
      }
    },
    {
      "cell_type": "code",
      "source": [
        "# Total de Aplicações\n",
        "Ttl_aplicacoes = dataset['id'].count()\n",
        "MTD_aplicacoes_emprestimos = dataset[dataset['data_emissão'].dt.month == 12]['id'].count()\n",
        "PMTD_aplicacoes_emprestimos = dataset[dataset['data_emissão'].dt.month == 11]['id'].count()\n",
        "\n",
        "# Calculos de valor total de financiamentos\n",
        "Vlr_financiado = dataset['valor_empréstimo'].sum()\n",
        "MTD_Vlr_financiado = dataset[dataset['data_emissão'].dt.month == 12]['valor_empréstimo'].sum()\n",
        "PMTD_Vlr_financiado = dataset[dataset['data_emissão'].dt.month == 11]['valor_empréstimo'].sum()\n",
        "\n",
        "# Calculos de valor total pagamentos\n",
        "Vlr_recebimento = dataset['pagamento_total'].sum()\n",
        "MTD_Vlr_recebimento = dataset[dataset['data_emissão'].dt.month == 12]['pagamento_total'].sum()\n",
        "PMTD_Vlr_recebimento = dataset[dataset['data_emissão'].dt.month == 11]['pagamento_total'].sum()\n",
        "\n",
        "# calculos de taxa de juros\n",
        "avr_taxa_de_juros = dataset['taxa_juros'].mean()\n",
        "MTD_media_taxa_de_juros = dataset[dataset['data_emissão'].dt.month == 12]['taxa_juros'].mean()\n",
        "PMTD_media_taxa_de_juros = dataset[dataset['data_emissão'].dt.month == 11]['taxa_juros'].mean()\n",
        "\n",
        "# calculos DTI_(relação_dívida/renda)\n",
        "avr_dti = dataset['DTI_(relação_dívida/renda)'].mean()\n",
        "MTD_media_dti = dataset[dataset['data_emissão'].dt.month == 12]['DTI_(relação_dívida/renda)'].mean()\n",
        "PMTD_media_dti = dataset[dataset['data_emissão'].dt.month == 11]['DTI_(relação_dívida/renda)'].mean()\n",
        "\n",
        "# calculos para identificar os emprestimos classificados como \"Good\" ou Corrente|Totalmente pago.\n",
        "status_desejado = ['Corrente', 'Totalmente pago']\n",
        "Ttl_good_emprestimos = dataset[dataset['status_empréstimo'].isin(status_desejado)]['id'].count()\n",
        "porcent_good_emprestimos = ((Ttl_good_emprestimos / Ttl_aplicacoes) *100)\n",
        "Vlr_good_financiamento = dataset[dataset['status_empréstimo'].isin(status_desejado)]['valor_empréstimo'].sum()\n",
        "Vlr_good_recebimento = dataset[dataset['status_empréstimo'].isin(status_desejado)]['pagamento_total'].sum()\n",
        "\n",
        "# calculos para identificar os emprestimos classificados como \"Bad\" ou Cobrados.\n",
        "\n",
        "Ttl_bad_emprestimos = dataset[dataset['status_empréstimo'] == 'Cobrado']['id'].count()\n",
        "porcent_bad_emprestimos = ((Ttl_bad_emprestimos / Ttl_aplicacoes) *100)\n",
        "Vlr_bad_financiamentos = dataset[dataset['status_empréstimo'] == 'Cobrado']['valor_empréstimo'].sum()\n",
        "Vlr_bad_recebimento = dataset[dataset['status_empréstimo'] == 'Cobrado']['pagamento_total'].sum()"
      ],
      "metadata": {
        "id": "wbrrzufvnyEH"
      },
      "execution_count": null,
      "outputs": []
    },
    {
      "cell_type": "markdown",
      "source": [
        "## *Tabelas Virtuais para análise - Principais Indicadores*"
      ],
      "metadata": {
        "id": "D5ZNX2RMECaN"
      }
    },
    {
      "cell_type": "markdown",
      "source": [
        "### **.** *Status dos emprestimos*"
      ],
      "metadata": {
        "id": "9jUizMcpEZp1"
      }
    },
    {
      "cell_type": "code",
      "source": [
        "status_emprestimos = dataset.groupby('status_empréstimo').agg(\n",
        "    Aplicações = ('id', 'count'),\n",
        "    Total_Recebido = ('pagamento_total', 'sum'),\n",
        "    Total_Financiado = ('valor_empréstimo', 'sum'),\n",
        "    Taxa_de_Juros_Média = ('taxa_juros', 'mean'),\n",
        "    DTI_Médio = ('DTI_(relação_dívida/renda)', 'mean')\n",
        ")"
      ],
      "metadata": {
        "id": "8cvD50ZXD_tA"
      },
      "execution_count": null,
      "outputs": []
    },
    {
      "cell_type": "code",
      "source": [
        "status_emprestimos"
      ],
      "metadata": {
        "id": "2hBMn0lWFGOM"
      },
      "execution_count": null,
      "outputs": []
    },
    {
      "cell_type": "markdown",
      "source": [
        "### **.** *Status dos emprestimos Por Mês*"
      ],
      "metadata": {
        "id": "HPtf0m22Gpe1"
      }
    },
    {
      "cell_type": "code",
      "source": [
        "dataset['Mês'] =  dataset['data_emissão'].dt.strftime('%B')\n",
        "\n",
        "Por_Mês = dataset.groupby([dataset['data_emissão'].dt.month, 'Mês']).agg(\n",
        "    Aplicações = ('id', 'count'),\n",
        "    Total_Recebido = ('pagamento_total', 'sum'),\n",
        "    Total_Financiado = ('valor_empréstimo', 'sum')\n",
        ")"
      ],
      "metadata": {
        "id": "OcDo_RKPGrB2"
      },
      "execution_count": null,
      "outputs": []
    },
    {
      "cell_type": "code",
      "source": [
        "Por_Mês"
      ],
      "metadata": {
        "id": "PlchhUHbHtD-"
      },
      "execution_count": null,
      "outputs": []
    },
    {
      "cell_type": "markdown",
      "source": [
        "### **.** *Emprestimos por Estado*"
      ],
      "metadata": {
        "id": "gzE4yRm2Ge-G"
      }
    },
    {
      "cell_type": "code",
      "source": [
        "Por_Estado = dataset.groupby('estado_endereço').agg(\n",
        "    Aplicações = ('id', 'count'),\n",
        "    Total_Recebido = ('pagamento_total', 'sum'),\n",
        "    Total_Financiado = ('valor_empréstimo', 'sum')\n",
        ")"
      ],
      "metadata": {
        "id": "ZfDca9zQE2Vk"
      },
      "execution_count": null,
      "outputs": []
    },
    {
      "cell_type": "code",
      "source": [
        "Por_Estado"
      ],
      "metadata": {
        "id": "2AWQhmy_GPpc"
      },
      "execution_count": null,
      "outputs": []
    },
    {
      "cell_type": "markdown",
      "source": [
        "### **.** *Emprestimos por Prazo*"
      ],
      "metadata": {
        "id": "ytUY4ZUIINJO"
      }
    },
    {
      "cell_type": "code",
      "source": [
        "Por_Prazo_de_Contrato = dataset.groupby('prazo').agg(\n",
        "    Aplicações=('id', 'count'),\n",
        "    Total_Recebido=('pagamento_total', 'sum'),\n",
        "    Total_Financiado=('valor_empréstimo', 'sum')\n",
        ")\n"
      ],
      "metadata": {
        "id": "O8ucGNowH-50"
      },
      "execution_count": null,
      "outputs": []
    },
    {
      "cell_type": "code",
      "source": [
        "Por_Prazo_de_Contrato"
      ],
      "metadata": {
        "id": "1Zf5TRgJIR2G"
      },
      "execution_count": null,
      "outputs": []
    },
    {
      "cell_type": "markdown",
      "source": [
        "### **.** *Emprestimos por Tempo de Emprego*"
      ],
      "metadata": {
        "id": "bph8NRrYIbIu"
      }
    },
    {
      "cell_type": "code",
      "source": [
        "Por_tempo_de_emprego = dataset.groupby('tempo_emprego').agg(\n",
        "    Aplicações = ('id', 'count'),\n",
        "    Total_Recebido = ('pagamento_total', 'sum'),\n",
        "    Total_Financiado = ('valor_empréstimo', 'sum')\n",
        ")"
      ],
      "metadata": {
        "id": "XDkwoaSdISat"
      },
      "execution_count": null,
      "outputs": []
    },
    {
      "cell_type": "code",
      "source": [
        "Por_tempo_de_emprego"
      ],
      "metadata": {
        "id": "nlrgEawdIlA0"
      },
      "execution_count": null,
      "outputs": []
    },
    {
      "cell_type": "code",
      "source": [],
      "metadata": {
        "id": "62kQqbEVIlwU"
      },
      "execution_count": null,
      "outputs": []
    },
    {
      "cell_type": "markdown",
      "source": [
        "### **.** *Emprestimos por Propósito*"
      ],
      "metadata": {
        "id": "XjaxcpqOJE79"
      }
    },
    {
      "cell_type": "code",
      "source": [
        "Por_proposito = dataset.groupby('propósito').agg(\n",
        "    Aplicações = ('id', 'count'),\n",
        "    Total_Recebido = ('pagamento_total', 'sum'),\n",
        "    Total_Financiado = ('valor_empréstimo', 'sum')\n",
        ")"
      ],
      "metadata": {
        "id": "iQ28X7e0JHif"
      },
      "execution_count": null,
      "outputs": []
    },
    {
      "cell_type": "code",
      "source": [
        "Por_proposito"
      ],
      "metadata": {
        "id": "MC5CS18gJKiF"
      },
      "execution_count": null,
      "outputs": []
    },
    {
      "cell_type": "markdown",
      "source": [
        "### **.** *Emprestimos por Residência*"
      ],
      "metadata": {
        "id": "9-fPAHfQJPje"
      }
    },
    {
      "cell_type": "code",
      "source": [
        "Por_residencia = dataset.groupby('posse_casa').agg(\n",
        "    Aplicações = ('id', 'count'),\n",
        "    Total_Recebido = ('pagamento_total', 'sum'),\n",
        "    Total_Financiado = ('valor_empréstimo', 'sum')\n",
        ")"
      ],
      "metadata": {
        "id": "tf04jPOSJM5s"
      },
      "execution_count": null,
      "outputs": []
    },
    {
      "cell_type": "code",
      "source": [
        "Por_residencia"
      ],
      "metadata": {
        "id": "cpy2V6cKJiC8"
      },
      "execution_count": null,
      "outputs": []
    },
    {
      "cell_type": "markdown",
      "source": [
        "# **4. Visualização dos Resultados**"
      ],
      "metadata": {
        "id": "tfcXyV1iJ3bO"
      }
    },
    {
      "cell_type": "code",
      "source": [
        "sns.set(style=\"whitegrid\")\n",
        "plt.figure(figsize=(16, 3))\n",
        "sns.barplot(x='Mês', y='Aplicações', data=Por_Mês, palette='viridis')\n",
        "plt.xlabel('Mês')\n",
        "plt.ylabel('Aplicações')\n",
        "plt.title('Número de Aplicações por Mês')\n",
        "plt.xticks(rotation=45)\n",
        "plt.show()"
      ],
      "metadata": {
        "id": "YFDNOUqnLQFV"
      },
      "execution_count": null,
      "outputs": []
    },
    {
      "cell_type": "code",
      "source": [
        "sns.set(style=\"whitegrid\")\n",
        "plt.figure(figsize=(5, 3))\n",
        "sns.barplot(x='prazo', y='Aplicações', data=Por_Prazo_de_Contrato, palette='viridis')\n",
        "plt.xlabel('Prazo')\n",
        "plt.ylabel('Aplicações')\n",
        "plt.title('Número de Aplicações por Prazo')\n",
        "plt.xticks(rotation=45)\n",
        "plt.show()"
      ],
      "metadata": {
        "id": "hQ14AB3uRz33"
      },
      "execution_count": null,
      "outputs": []
    },
    {
      "cell_type": "code",
      "source": [
        "sns.set(style=\"whitegrid\")\n",
        "plt.figure(figsize=(16, 6))\n",
        "sns.set_color_codes(\"pastel\")\n",
        "sns.barplot(x='Aplicações', y='propósito', data=Por_proposito, label=\"Total\", color=\"b\")\n",
        "plt.xlabel('Total de Aplicações')\n",
        "plt.ylabel('Propósito')\n",
        "plt.title('Total de Aplicações por Propósito')\n",
        "plt.xticks(rotation=45)\n",
        "sns.despine(left=True, bottom=True)\n",
        "plt.show()"
      ],
      "metadata": {
        "id": "IsW2YXIIY5Wl"
      },
      "execution_count": null,
      "outputs": []
    },
    {
      "cell_type": "code",
      "source": [
        "sns.set(style=\"whitegrid\")\n",
        "fig, axs = plt.subplots(nrows=1, ncols=2, figsize=(10, 10))\n",
        "\n",
        "sns.set_color_codes(\"pastel\")\n",
        "sns.barplot(x='Aplicações', y='estado_endereço', data=Por_Estado, label=\"Total\", color=\"b\", ax=axs[0])\n",
        "axs[0].set_xlabel('Aplicações de Empréstimos')\n",
        "axs[0].set_ylabel('Estado')\n",
        "axs[0].set_title('Total Solicitações por Estado')\n",
        "axs[0].tick_params(axis='y', rotation=0)\n",
        "sns.despine(left=True, bottom=True, ax=axs[0])\n",
        "\n",
        "sns.set_color_codes(\"pastel\")\n",
        "sns.barplot(x='Total_Recebido', y='estado_endereço', data=Por_Estado, label=\"Total\", color=\"b\", ax=axs[1])\n",
        "axs[1].set_xlabel('Total Recebido')\n",
        "axs[1].set_ylabel('Estado')\n",
        "axs[1].set_title('Total Recebido por Estado')\n",
        "axs[1].tick_params(axis='y', rotation=0)\n",
        "sns.despine(left=True, bottom=True, ax=axs[1])\n",
        "\n",
        "plt.tight_layout()\n",
        "\n",
        "plt.show()"
      ],
      "metadata": {
        "id": "4Jgdn3BTcRcu"
      },
      "execution_count": null,
      "outputs": []
    },
    {
      "cell_type": "markdown",
      "source": [
        "\n",
        "# **5. Conclusão**"
      ],
      "metadata": {
        "id": "NTwsgcytj-rQ"
      }
    },
    {
      "cell_type": "code",
      "source": [
        "#Formatando os Numeros para gerar o Resumo\n",
        "Ttl_aplicacoes_formatado = Ttl_aplicacoes\n",
        "MTD_aplicacoes_emprestimos_formatado = f'{MTD_aplicacoes_emprestimos}'\n",
        "PMTD_aplicacoes_emprestimos_formatado = f'{PMTD_aplicacoes_emprestimos}'\n",
        "Vlr_financiado_formatado = f'R${Vlr_financiado:,.2f}'\n",
        "MTD_Vlr_financiado_formatado = f'R${MTD_Vlr_financiado:,.2f}'\n",
        "PMTD_Vlr_financiado_formatado = f'R${PMTD_Vlr_financiado:,.2f}'\n",
        "Vlr_recebimento_formatado = f'R${Vlr_recebimento:,.2f}'\n",
        "MTD_Vlr_recebimento_formatado = f'R${MTD_Vlr_recebimento:,.2f}'\n",
        "PMTD_Vlr_recebimento_formatado = f'R${PMTD_Vlr_recebimento:,.2f}'\n",
        "avr_taxa_de_juros_formatado = f'{avr_taxa_de_juros:.2%}'\n",
        "MTD_media_taxa_de_juros_formatado = f'{MTD_media_taxa_de_juros:.2%}'\n",
        "PMTD_media_taxa_de_juros_formatado = f'{PMTD_media_taxa_de_juros:.2%}'\n",
        "avr_dti_formatado = f'{avr_dti:.2%}'\n",
        "MTD_media_dti_formatado = f'{MTD_media_dti:.2%}'\n",
        "PMTD_media_dti_formatado = f'{PMTD_media_dti:.2%}'\n",
        "Ttl_good_emprestimos_formatado = f'{Ttl_good_emprestimos}'\n",
        "porcent_good_emprestimos_formatado = f'{porcent_good_emprestimos:.2f}%'\n",
        "Vlr_good_financiamento_formatado = f'R${Vlr_good_financiamento:,.2f}'\n",
        "Vlr_good_recebimento_formatado = f'R${Vlr_good_recebimento:,.2f}'\n",
        "Ttl_bad_emprestimos_formatado = f'{Ttl_bad_emprestimos}'\n",
        "porcent_bad_emprestimos_formatado = f'{porcent_bad_emprestimos:.2f}%'\n",
        "Vlr_bad_financiamentos_formatado = f'R${Vlr_bad_financiamentos:,.2f}'\n",
        "Vlr_bad_recebimento_formatado = f'R${Vlr_bad_recebimento:,.2f}'"
      ],
      "metadata": {
        "id": "HyQjM_DIj9sW"
      },
      "execution_count": null,
      "outputs": []
    },
    {
      "cell_type": "code",
      "source": [
        "variaveis_formatadas = [\n",
        "    Ttl_aplicacoes_formatado,\n",
        "    MTD_aplicacoes_emprestimos_formatado,\n",
        "    PMTD_aplicacoes_emprestimos_formatado,\n",
        "    Vlr_financiado_formatado,\n",
        "    MTD_Vlr_financiado_formatado,\n",
        "    PMTD_Vlr_financiado_formatado,\n",
        "    Vlr_recebimento_formatado,\n",
        "    MTD_Vlr_recebimento_formatado,\n",
        "    PMTD_Vlr_recebimento_formatado,\n",
        "    avr_taxa_de_juros_formatado,\n",
        "    MTD_media_taxa_de_juros_formatado,\n",
        "    PMTD_media_taxa_de_juros_formatado,\n",
        "    avr_dti_formatado,\n",
        "    MTD_media_dti_formatado,\n",
        "    PMTD_media_dti_formatado,\n",
        "    Ttl_good_emprestimos_formatado,\n",
        "    porcent_good_emprestimos_formatado,\n",
        "    Vlr_good_financiamento_formatado,\n",
        "    Vlr_good_recebimento_formatado,\n",
        "    Ttl_bad_emprestimos_formatado,\n",
        "    porcent_bad_emprestimos_formatado,\n",
        "    Vlr_bad_financiamentos_formatado,\n",
        "    Vlr_bad_recebimento_formatado\n",
        "]"
      ],
      "metadata": {
        "id": "DsTQnv7UkWhP"
      },
      "execution_count": null,
      "outputs": []
    },
    {
      "cell_type": "code",
      "source": [
        "titulos = [\n",
        "    \"Total de Aplicações:\", \"Aplicações no Mês (Dezembro):\", \"Aplicações no Mês (Novembro):\",\n",
        "    \"Valor Total Financiado:\", \"Valor Financiado no Mês (Dezembro):\", \"Valor Financiado no Mês (Novembro):\",\n",
        "    \"Valor Total Recebido:\", \"Valor Recebido no Mês (Dezembro):\", \"Valor Recebido no Mês (Novembro):\",\n",
        "    \"Taxa de Juros Média:\", \"Taxa de Juros Média no Mês (Dezembro):\", \"Taxa de Juros Média no Mês (Novembro):\",\n",
        "    \"DTI Médio:\", \"DTI Médio no Mês (Dezembro):\", \"DTI Médio no Mês (Novembro):\",\n",
        "    \"Total de Empréstimos 'Good':\", \"Porcentagem de Empréstimos 'Good':\", \"Valor Financiado 'Good':\", \"Valor Recebido 'Good':\",\n",
        "    \"Total de Empréstimos 'Bad':\", \"Porcentagem de Empréstimos 'Bad':\", \"Valor Financiado 'Bad':\", \"Valor Recebido 'Bad':\"\n",
        "]\n",
        "\n",
        "# Iterar sobre cada título e resultado e imprimir\n",
        "for titulo, resultado in zip(titulos, variaveis_formatadas):\n",
        "    print(titulo, resultado)"
      ],
      "metadata": {
        "id": "_P9oPo7bkk_V"
      },
      "execution_count": null,
      "outputs": []
    }
  ]
}